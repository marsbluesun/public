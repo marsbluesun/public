{
 "cells": [
  {
   "cell_type": "markdown",
   "metadata": {},
   "source": [
    "<a href=\"https://cognitiveclass.ai\"><img src = \"https://ibm.box.com/shared/static/9gegpsmnsoo25ikkbl4qzlvlyjbgxs5x.png\" width = 400> </a>\n",
    "\n",
    "<h1 align=center><font size = 5>Final Project: Silicon Valley Neighborhood Research</font></h1>"
   ]
  },
  {
   "cell_type": "markdown",
   "metadata": {},
   "source": [
    "### Introduction\n",
    "This project is to investigate Silicon Valley Neighborhood based on FourSquare API and clustering data science method"
   ]
  },
  {
   "cell_type": "markdown",
   "metadata": {},
   "source": [
    "### Set up Environment"
   ]
  },
  {
   "cell_type": "code",
   "execution_count": 2,
   "metadata": {},
   "outputs": [],
   "source": [
    "import numpy as np # library to handle data in a vectorized manner\n",
    "\n",
    "import pandas as pd # library for data analsysis\n",
    "pd.set_option('display.max_columns', None)\n",
    "pd.set_option('display.max_rows', None)\n",
    "\n",
    "import json # library to handle JSON files\n",
    "\n",
    "#!conda install -c conda-forge geopy --yes # uncomment this line if you haven't completed the Foursquare API lab\n",
    "#from geopy.geocoders import Nominatim # convert an address into latitude and longitude values\n",
    "\n",
    "import requests # library to handle requests\n",
    "import csv\n",
    "import time\n",
    "\n",
    "from pandas.io.json import json_normalize # tranform JSON file into a pandas dataframe\n",
    "\n",
    "# Matplotlib and associated plotting modules\n",
    "import matplotlib.cm as cm\n",
    "import matplotlib.colors as colors\n",
    "\n",
    "# import k-means from clustering stage\n",
    "from sklearn.cluster import KMeans\n",
    "\n",
    "#!conda install -c conda-forge folium=0.5.0 --yes # uncomment this line if you haven't completed the Foursquare API lab\n",
    "#import folium # map rendering library"
   ]
  },
  {
   "cell_type": "markdown",
   "metadata": {},
   "source": [
    "### Download the data from data.gov & Convert raw data into pd.DataFrame"
   ]
  },
  {
   "cell_type": "code",
   "execution_count": 2,
   "metadata": {},
   "outputs": [],
   "source": [
    "url = 'https://data.sfgov.org/api/views/f9wk-m4qb/rows.csv?accessType=DOWNLOAD'\n",
    "data = pd.read_csv(url)"
   ]
  },
  {
   "cell_type": "markdown",
   "metadata": {},
   "source": [
    "### **Part 1 Reform DataFrame"
   ]
  },
  {
   "cell_type": "code",
   "execution_count": 3,
   "metadata": {
    "scrolled": false
   },
   "outputs": [
    {
     "name": "stdout",
     "output_type": "stream",
     "text": [
      "There are 96 unique cities found in Greater San Francisco Bay Area.\n"
     ]
    },
    {
     "data": {
      "text/html": [
       "<div>\n",
       "<style scoped>\n",
       "    .dataframe tbody tr th:only-of-type {\n",
       "        vertical-align: middle;\n",
       "    }\n",
       "\n",
       "    .dataframe tbody tr th {\n",
       "        vertical-align: top;\n",
       "    }\n",
       "\n",
       "    .dataframe thead th {\n",
       "        text-align: right;\n",
       "    }\n",
       "</style>\n",
       "<table border=\"1\" class=\"dataframe\">\n",
       "  <thead>\n",
       "    <tr style=\"text-align: right;\">\n",
       "      <th></th>\n",
       "      <th>PO_NAME</th>\n",
       "      <th>the_geom</th>\n",
       "      <th>ZIP</th>\n",
       "      <th>STATE</th>\n",
       "      <th>Area__</th>\n",
       "      <th>Length__</th>\n",
       "      <th>latitude</th>\n",
       "      <th>longitude</th>\n",
       "    </tr>\n",
       "  </thead>\n",
       "  <tbody>\n",
       "    <tr>\n",
       "      <th>0</th>\n",
       "      <td>NAPA</td>\n",
       "      <td>MULTIPOLYGON (((-122.10329200180091 38.5132829...</td>\n",
       "      <td>94558</td>\n",
       "      <td>CA</td>\n",
       "      <td>1.231326e+10</td>\n",
       "      <td>995176.225313</td>\n",
       "      <td>38.410697</td>\n",
       "      <td>-122.298535</td>\n",
       "    </tr>\n",
       "    <tr>\n",
       "      <th>1</th>\n",
       "      <td>FAIRFIELD</td>\n",
       "      <td>MULTIPOLYGON (((-121.947475002335 38.301511000...</td>\n",
       "      <td>94533</td>\n",
       "      <td>CA</td>\n",
       "      <td>9.917861e+08</td>\n",
       "      <td>200772.556587</td>\n",
       "      <td>38.279137</td>\n",
       "      <td>-122.025948</td>\n",
       "    </tr>\n",
       "    <tr>\n",
       "      <th>2</th>\n",
       "      <td>DIXON</td>\n",
       "      <td>MULTIPOLYGON (((-121.65335500334429 38.3133870...</td>\n",
       "      <td>95620</td>\n",
       "      <td>CA</td>\n",
       "      <td>7.236950e+09</td>\n",
       "      <td>441860.201400</td>\n",
       "      <td>38.434585</td>\n",
       "      <td>-121.781528</td>\n",
       "    </tr>\n",
       "    <tr>\n",
       "      <th>3</th>\n",
       "      <td>SONOMA</td>\n",
       "      <td>MULTIPOLYGON (((-122.406843003057 38.155681999...</td>\n",
       "      <td>95476</td>\n",
       "      <td>CA</td>\n",
       "      <td>3.001414e+09</td>\n",
       "      <td>311318.546326</td>\n",
       "      <td>38.279666</td>\n",
       "      <td>-122.456603</td>\n",
       "    </tr>\n",
       "    <tr>\n",
       "      <th>4</th>\n",
       "      <td>NAPA</td>\n",
       "      <td>MULTIPOLYGON (((-122.29368500225117 38.1552379...</td>\n",
       "      <td>94559</td>\n",
       "      <td>CA</td>\n",
       "      <td>1.194302e+09</td>\n",
       "      <td>359104.646602</td>\n",
       "      <td>38.266265</td>\n",
       "      <td>-122.311414</td>\n",
       "    </tr>\n",
       "  </tbody>\n",
       "</table>\n",
       "</div>"
      ],
      "text/plain": [
       "     PO_NAME                                           the_geom    ZIP STATE  \\\n",
       "0       NAPA  MULTIPOLYGON (((-122.10329200180091 38.5132829...  94558    CA   \n",
       "1  FAIRFIELD  MULTIPOLYGON (((-121.947475002335 38.301511000...  94533    CA   \n",
       "2      DIXON  MULTIPOLYGON (((-121.65335500334429 38.3133870...  95620    CA   \n",
       "3     SONOMA  MULTIPOLYGON (((-122.406843003057 38.155681999...  95476    CA   \n",
       "4       NAPA  MULTIPOLYGON (((-122.29368500225117 38.1552379...  94559    CA   \n",
       "\n",
       "         Area__       Length__   latitude   longitude  \n",
       "0  1.231326e+10  995176.225313  38.410697 -122.298535  \n",
       "1  9.917861e+08  200772.556587  38.279137 -122.025948  \n",
       "2  7.236950e+09  441860.201400  38.434585 -121.781528  \n",
       "3  3.001414e+09  311318.546326  38.279666 -122.456603  \n",
       "4  1.194302e+09  359104.646602  38.266265 -122.311414  "
      ]
     },
     "execution_count": 3,
     "metadata": {},
     "output_type": "execute_result"
    }
   ],
   "source": [
    "# Need to switch 'the_geom' into [latitude, longitude]; create area center as in 'latitude' and 'longitude' columns\n",
    "import re\n",
    "def extractFloat(temp):\n",
    "    output = re.findall(r\"[-+]?\\d*\\.\\d+|\\d+\", temp)\n",
    "    output = [float(i) for i in output]\n",
    "    return output\n",
    "    \n",
    "geo = data[\"the_geom\"].str.split(\"MULTIPOLYGON\", n = 1, expand = True)[1] \n",
    "latitude  = []\n",
    "longitude = []\n",
    "for j in range(len(geo)):\n",
    "    lat  = []\n",
    "    long = []\n",
    "    lat  = extractFloat(geo[j])[1::2]\n",
    "    long = extractFloat(geo[j])[0::2]\n",
    "    latitude.append(np.array(lat).mean())\n",
    "    longitude.append(np.array(long).mean())\n",
    "\n",
    "data['latitude']  = latitude\n",
    "data['longitude'] = longitude\n",
    "data = data[data['PO_NAME'] != 'TRAVIS AFB']\n",
    "city_ls           = data.PO_NAME.unique().tolist()\n",
    "print(\"There are {} unique cities found in Greater San Francisco Bay Area.\".format(len(data.PO_NAME.unique())))\n",
    "data.head()"
   ]
  },
  {
   "cell_type": "code",
   "execution_count": 4,
   "metadata": {},
   "outputs": [],
   "source": [
    "# Area List by City Name\n",
    "area_ls = data.groupby('PO_NAME').sum()['Area__']"
   ]
  },
  {
   "cell_type": "markdown",
   "metadata": {},
   "source": [
    "### **Part 2 Access to Foursqaure database"
   ]
  },
  {
   "cell_type": "code",
   "execution_count": 25,
   "metadata": {},
   "outputs": [
    {
     "name": "stdout",
     "output_type": "stream",
     "text": [
      "Your credentails:\n",
      "CLIENT_ID: TJ0SPQOHXOF5CJGO2BUHJM2ZXXEJK3K1WQZZWG2Y23XZN025\n",
      "CLIENT_SECRET:NQEXK1ULW5FOTFHEOROXCF4U1VELGW4N2GAD4IYNDET0VIKI\n",
      "Latitude and longitude values of first row \"NAPA\" are (38.41069666247486, -122.29853512315688).\n"
     ]
    }
   ],
   "source": [
    "# Input Foursquare ID/Secret/Version\n",
    "CLIENT_ID = 'TJ0SPQOHXOF5CJGO2BUHJM2ZXXEJK3K1WQZZWG2Y23XZN025' # your Foursquare ID\n",
    "CLIENT_SECRET = 'NQEXK1ULW5FOTFHEOROXCF4U1VELGW4N2GAD4IYNDET0VIKI' # your Foursquare Secret\n",
    "VERSION = '20180605' # Foursquare API version\n",
    "\n",
    "print('Your credentails:')\n",
    "print('CLIENT_ID: ' + CLIENT_ID)\n",
    "print('CLIENT_SECRET:' + CLIENT_SECRET)\n"
   ]
  },
  {
   "cell_type": "code",
   "execution_count": null,
   "metadata": {},
   "outputs": [],
   "source": [
    "# Test Run by only using the first row input\n",
    "# Get neighborhood Data\n",
    "bay_latitude = data.loc[0, 'latitude'] # neighborhood latitude value\n",
    "bay_longitude = data.loc[0, 'longitude'] # neighborhood longitude value\n",
    "\n",
    "bay_name = data.loc[0, 'PO_NAME'] # neighborhood name\n",
    "\n",
    "print('Latitude and longitude values of first row \"{}\" are ({}, {}).'.format(bay_name, \n",
    "                                                               bay_latitude, \n",
    "                                                               bay_longitude))\n",
    "\n",
    "LIMIT  = 20 # limit of number of venues returned by Foursquare API\n",
    "radius = 10000 # define radius\n",
    "price  = 2\n",
    "\n",
    "# create URL\n",
    "url = 'https://api.foursquare.com/v2/venues/explore?&client_id={}&client_secret={}&v={}&ll={},{}&radius={}&price={}&limit={}'.format(\n",
    "    CLIENT_ID, \n",
    "    CLIENT_SECRET, \n",
    "    VERSION, \n",
    "    bay_latitude, \n",
    "    bay_longitude, \n",
    "    radius,\n",
    "    price,\n",
    "    LIMIT)\n",
    "url # display URL\n",
    "results = requests.get(url).json()\n",
    "#results"
   ]
  },
  {
   "cell_type": "code",
   "execution_count": 26,
   "metadata": {},
   "outputs": [
    {
     "data": {
      "text/plain": [
       "{'meta': {'code': 429,\n",
       "  'errorType': 'quota_exceeded',\n",
       "  'errorDetail': 'Quota exceeded',\n",
       "  'requestId': '5d31f032fd16bb002c9b3081'},\n",
       " 'response': {}}"
      ]
     },
     "execution_count": 26,
     "metadata": {},
     "output_type": "execute_result"
    }
   ],
   "source": [
    "results"
   ]
  },
  {
   "cell_type": "code",
   "execution_count": 22,
   "metadata": {},
   "outputs": [],
   "source": [
    "# Function that extracts the category of the venue\n",
    "LIMIT        = 20\n",
    "radius_range = 10000\n",
    "\n",
    "def getNearbyVenues(names, latitudes, longitudes, radius=radius_range):\n",
    "    \n",
    "    venues_list=[]\n",
    "    for name, lat, lng in zip(names, latitudes, longitudes):\n",
    "        print(name)\n",
    "            \n",
    "        # create the API request URL\n",
    "        url = 'https://api.foursquare.com/v2/venues/explore?&client_id={}&client_secret={}&v={}&ll={},{}&radius={}&limit={}'.format(\n",
    "            CLIENT_ID, \n",
    "            CLIENT_SECRET, \n",
    "            VERSION, \n",
    "            lat, \n",
    "            lng, \n",
    "            radius, \n",
    "            LIMIT)\n",
    "            \n",
    "        # make the GET request\n",
    "        results = requests.get(url).json()[\"response\"]['groups'][0]['items']\n",
    "        \n",
    "        # return only relevant information for each nearby venue\n",
    "        venues_list.append([(\n",
    "            name, \n",
    "            lat, \n",
    "            lng, \n",
    "            v['venue']['name'], \n",
    "            v['venue']['location']['lat'], \n",
    "            v['venue']['location']['lng'],  \n",
    "            v['venue']['categories'][0]['name']) for v in results])\n",
    "\n",
    "    nearby_venues = pd.DataFrame([item for venue_list in venues_list for item in venue_list])\n",
    "    nearby_venues.columns = ['Location', \n",
    "                  'City Latitude', \n",
    "                  'City Longitude', \n",
    "                  'Venue', \n",
    "                  'Venue Latitude', \n",
    "                  'Venue Longitude', \n",
    "                  'Category']\n",
    "    \n",
    "    return(nearby_venues)"
   ]
  },
  {
   "cell_type": "code",
   "execution_count": 23,
   "metadata": {
    "scrolled": true
   },
   "outputs": [
    {
     "name": "stdout",
     "output_type": "stream",
     "text": [
      "NAPA\n"
     ]
    },
    {
     "ename": "KeyError",
     "evalue": "'groups'",
     "output_type": "error",
     "traceback": [
      "\u001b[1;31m---------------------------------------------------------------------------\u001b[0m",
      "\u001b[1;31mKeyError\u001b[0m                                  Traceback (most recent call last)",
      "\u001b[1;32m<ipython-input-23-223a9d99a924>\u001b[0m in \u001b[0;36m<module>\u001b[1;34m\u001b[0m\n\u001b[0;32m      1\u001b[0m bay_venues = getNearbyVenues(names=data['PO_NAME'],\n\u001b[0;32m      2\u001b[0m                              \u001b[0mlatitudes\u001b[0m\u001b[1;33m=\u001b[0m\u001b[0mdata\u001b[0m\u001b[1;33m[\u001b[0m\u001b[1;34m'latitude'\u001b[0m\u001b[1;33m]\u001b[0m\u001b[1;33m,\u001b[0m\u001b[1;33m\u001b[0m\u001b[1;33m\u001b[0m\u001b[0m\n\u001b[1;32m----> 3\u001b[1;33m                              \u001b[0mlongitudes\u001b[0m\u001b[1;33m=\u001b[0m\u001b[0mdata\u001b[0m\u001b[1;33m[\u001b[0m\u001b[1;34m'longitude'\u001b[0m\u001b[1;33m]\u001b[0m\u001b[1;33m\u001b[0m\u001b[1;33m\u001b[0m\u001b[0m\n\u001b[0m\u001b[0;32m      4\u001b[0m                             )\n\u001b[0;32m      5\u001b[0m \u001b[1;33m\u001b[0m\u001b[0m\n",
      "\u001b[1;32m<ipython-input-22-5fdd643f4a8a>\u001b[0m in \u001b[0;36mgetNearbyVenues\u001b[1;34m(names, latitudes, longitudes, radius)\u001b[0m\n\u001b[0;32m     17\u001b[0m \u001b[1;33m\u001b[0m\u001b[0m\n\u001b[0;32m     18\u001b[0m         \u001b[1;31m# make the GET request\u001b[0m\u001b[1;33m\u001b[0m\u001b[1;33m\u001b[0m\u001b[1;33m\u001b[0m\u001b[0m\n\u001b[1;32m---> 19\u001b[1;33m         \u001b[0mresults\u001b[0m \u001b[1;33m=\u001b[0m \u001b[0mrequests\u001b[0m\u001b[1;33m.\u001b[0m\u001b[0mget\u001b[0m\u001b[1;33m(\u001b[0m\u001b[0murl\u001b[0m\u001b[1;33m)\u001b[0m\u001b[1;33m.\u001b[0m\u001b[0mjson\u001b[0m\u001b[1;33m(\u001b[0m\u001b[1;33m)\u001b[0m\u001b[1;33m[\u001b[0m\u001b[1;34m\"response\"\u001b[0m\u001b[1;33m]\u001b[0m\u001b[1;33m[\u001b[0m\u001b[1;34m'groups'\u001b[0m\u001b[1;33m]\u001b[0m\u001b[1;33m[\u001b[0m\u001b[1;36m0\u001b[0m\u001b[1;33m]\u001b[0m\u001b[1;33m[\u001b[0m\u001b[1;34m'items'\u001b[0m\u001b[1;33m]\u001b[0m\u001b[1;33m\u001b[0m\u001b[1;33m\u001b[0m\u001b[0m\n\u001b[0m\u001b[0;32m     20\u001b[0m \u001b[1;33m\u001b[0m\u001b[0m\n\u001b[0;32m     21\u001b[0m         \u001b[1;31m# return only relevant information for each nearby venue\u001b[0m\u001b[1;33m\u001b[0m\u001b[1;33m\u001b[0m\u001b[1;33m\u001b[0m\u001b[0m\n",
      "\u001b[1;31mKeyError\u001b[0m: 'groups'"
     ]
    }
   ],
   "source": [
    "bay_venues = getNearbyVenues(names=data['PO_NAME'],\n",
    "                             latitudes=data['latitude'],\n",
    "                             longitudes=data['longitude']\n",
    "                            )\n",
    "\n",
    "print(\"Bay Area Venues shape: {}\".format(bay_venues.shape))\n",
    "bay_venues.head(20)"
   ]
  },
  {
   "cell_type": "code",
   "execution_count": 24,
   "metadata": {},
   "outputs": [
    {
     "data": {
      "text/plain": [
       "0      38.410697\n",
       "1      38.279137\n",
       "2      38.434585\n",
       "3      38.279666\n",
       "4      38.266265\n",
       "5      38.233673\n",
       "6      38.189667\n",
       "8      38.182079\n",
       "9      38.068329\n",
       "10     38.118574\n",
       "11     38.145878\n",
       "12     38.109064\n",
       "13     38.088696\n",
       "14     38.130289\n",
       "15     38.138542\n",
       "16     38.101083\n",
       "17     38.098477\n",
       "18     38.036234\n",
       "19     38.023162\n",
       "20     38.047533\n",
       "21     38.045259\n",
       "22     38.150717\n",
       "23     37.772961\n",
       "24     38.014832\n",
       "25     38.014814\n",
       "26     37.997220\n",
       "27     38.036397\n",
       "28     37.976970\n",
       "29     38.010752\n",
       "30     38.009207\n",
       "31     38.010804\n",
       "32     37.739115\n",
       "33     37.989599\n",
       "34     37.984291\n",
       "35     37.924400\n",
       "36     37.795740\n",
       "37     37.969969\n",
       "38     37.978224\n",
       "39     38.002368\n",
       "40     38.007517\n",
       "41     37.920481\n",
       "42     37.992372\n",
       "43     37.944263\n",
       "44     37.983617\n",
       "45     37.973860\n",
       "46     37.974008\n",
       "47     37.965534\n",
       "48     37.967609\n",
       "49     37.780152\n",
       "50     37.954923\n",
       "51     37.952034\n",
       "52     37.949329\n",
       "53     37.785804\n",
       "54     37.901570\n",
       "55     37.909287\n",
       "56     37.942559\n",
       "57     37.920491\n",
       "58     37.937543\n",
       "59     37.942698\n",
       "60     37.920856\n",
       "61     37.925416\n",
       "62     37.906942\n",
       "63     37.899291\n",
       "64     37.787676\n",
       "65     37.893157\n",
       "66     37.874536\n",
       "67     37.873507\n",
       "68     37.899674\n",
       "69     37.848708\n",
       "70     37.899918\n",
       "71     37.888848\n",
       "72     37.874895\n",
       "73     37.791619\n",
       "74     37.878529\n",
       "75     37.879386\n",
       "76     37.861791\n",
       "77     37.868706\n",
       "78     37.856373\n",
       "79     37.865832\n",
       "80     37.855536\n",
       "81     37.847133\n",
       "82     37.885159\n",
       "83     37.782240\n",
       "84     37.858376\n",
       "85     37.829421\n",
       "86     37.846276\n",
       "87     37.836580\n",
       "88     37.591079\n",
       "89     37.835850\n",
       "90     37.840273\n",
       "91     37.817712\n",
       "92     37.802722\n",
       "93     37.819622\n",
       "94     37.806730\n",
       "95     37.804245\n",
       "96     37.812645\n",
       "97     37.771226\n",
       "98     37.805031\n",
       "99     37.809697\n",
       "100    37.726341\n",
       "101    37.809665\n",
       "102    37.795469\n",
       "103    37.793397\n",
       "104    37.798422\n",
       "105    37.790066\n",
       "106    37.781923\n",
       "107    37.780994\n",
       "108    37.689311\n",
       "109    37.774428\n",
       "110    37.791776\n",
       "111    37.759090\n",
       "112    37.779970\n",
       "113    37.768486\n",
       "114    37.760544\n",
       "115    37.744952\n",
       "116    37.757278\n",
       "117    37.768682\n",
       "118    37.748232\n",
       "119    37.686794\n",
       "120    37.749343\n",
       "121    37.735411\n",
       "122    37.744580\n",
       "123    37.727950\n",
       "124    37.733766\n",
       "125    37.717086\n",
       "126    37.725208\n",
       "127    37.721655\n",
       "128    37.718130\n",
       "129    37.714873\n",
       "130    37.704974\n",
       "131    37.673731\n",
       "132    37.685814\n",
       "133    37.695037\n",
       "134    37.686441\n",
       "135    37.681258\n",
       "136    37.678020\n",
       "137    37.650914\n",
       "138    37.654013\n",
       "139    37.633584\n",
       "140    37.619632\n",
       "141    37.631826\n",
       "142    37.563486\n",
       "143    37.651129\n",
       "144    37.600689\n",
       "145    37.624736\n",
       "146    37.625308\n",
       "147    37.574319\n",
       "148    37.506861\n",
       "149    37.602521\n",
       "150    37.563174\n",
       "151    37.542104\n",
       "152    37.567829\n",
       "153    37.570521\n",
       "154    37.520798\n",
       "155    37.547898\n",
       "156    37.556328\n",
       "157    37.540459\n",
       "158    37.507254\n",
       "159    37.521628\n",
       "160    37.531641\n",
       "161    37.496571\n",
       "162    37.454161\n",
       "163    37.514621\n",
       "164    37.497623\n",
       "165    37.427978\n",
       "166    37.434766\n",
       "167    37.422107\n",
       "168    37.424874\n",
       "169    37.447565\n",
       "170    37.454962\n",
       "171    37.451527\n",
       "172    37.431757\n",
       "173    37.367447\n",
       "174    37.458994\n",
       "175    37.416065\n",
       "176    37.409784\n",
       "177    37.424856\n",
       "178    37.411316\n",
       "179    37.411273\n",
       "180    37.370551\n",
       "181    37.383364\n",
       "182    37.375080\n",
       "183    37.387278\n",
       "184    37.372690\n",
       "185    37.353896\n",
       "186    37.350662\n",
       "Name: latitude, dtype: float64"
      ]
     },
     "execution_count": 24,
     "metadata": {},
     "output_type": "execute_result"
    }
   ],
   "source": [
    "data['latitude']"
   ]
  },
  {
   "cell_type": "code",
   "execution_count": null,
   "metadata": {},
   "outputs": [],
   "source": [
    "bay_venues.rename(columns={'City Latitude':'latitude','City Longitude':'longitude'}, inplace=True)\n",
    "baydata = pd.merge(bay_venues, data[['ZIP','longitude']], on='longitude')\n",
    "print(\"The shape of Bay Area Raw Data extracted through FourSqaure API is {}\".format(baydata.shape))\n",
    "print(\"There are {} unique neighborhoods according to zip-code and {} unique cities.\".format(len(baydata.ZIP.unique()),len(baydata.Location.unique())))\n",
    "baydata.head()"
   ]
  },
  {
   "cell_type": "markdown",
   "metadata": {},
   "source": [
    "### Answer of Q1 (shape)"
   ]
  },
  {
   "cell_type": "code",
   "execution_count": null,
   "metadata": {},
   "outputs": [],
   "source": [
    "df.shape"
   ]
  },
  {
   "cell_type": "markdown",
   "metadata": {},
   "source": [
    "### **Part 2 Add Geographic Information to dataframe"
   ]
  },
  {
   "cell_type": "code",
   "execution_count": null,
   "metadata": {},
   "outputs": [],
   "source": [
    "import io \n",
    "csv_url = \"http://cocl.us/Geospatial_data\"\n",
    "s       = requests.get(csv_url).content\n",
    "df_geo  = pd.read_csv(io.StringIO(s.decode('utf-8')))"
   ]
  },
  {
   "cell_type": "code",
   "execution_count": null,
   "metadata": {},
   "outputs": [],
   "source": [
    "df_geo.rename(columns={'Postal Code':'Postcode'}, inplace=True)\n",
    "df_geo"
   ]
  },
  {
   "cell_type": "code",
   "execution_count": null,
   "metadata": {},
   "outputs": [],
   "source": [
    "# Merge the two dataframes\n",
    "df_new = pd.merge(df, df_geo, on='Postcode')"
   ]
  },
  {
   "cell_type": "code",
   "execution_count": null,
   "metadata": {},
   "outputs": [],
   "source": [
    "df_new"
   ]
  },
  {
   "cell_type": "code",
   "execution_count": null,
   "metadata": {},
   "outputs": [],
   "source": [
    "toronto_data = df_new[df_new['Borough'].str.contains(r'Toronto')].reset_index(drop=True)\n",
    "toronto_data.head()"
   ]
  },
  {
   "cell_type": "markdown",
   "metadata": {},
   "source": [
    "#### Get the geo info for Toronto"
   ]
  },
  {
   "cell_type": "code",
   "execution_count": null,
   "metadata": {},
   "outputs": [],
   "source": [
    "#!conda install -c conda-forge geopy --yes\n",
    "#!conda install -c conda-forge folium=0.5.0 --yes\n",
    "\n",
    "from geopy.geocoders import Nominatim"
   ]
  },
  {
   "cell_type": "code",
   "execution_count": null,
   "metadata": {},
   "outputs": [],
   "source": [
    "address = 'Toronto'\n",
    "\n",
    "geolocator = Nominatim(user_agent=\"tor_explorer\")\n",
    "location = geolocator.geocode(address)\n",
    "latitude = location.latitude\n",
    "longitude = location.longitude\n",
    "print('The geograpical coordinate of Toronto are {}, {}.'.format(latitude, longitude))"
   ]
  },
  {
   "cell_type": "code",
   "execution_count": null,
   "metadata": {},
   "outputs": [],
   "source": [
    "# create map of Manhattan using latitude and longitude values\n",
    "map_toronto = folium.Map(location=[latitude, longitude], zoom_start=11)\n",
    "\n",
    "# add markers to map\n",
    "for lat, lng, label in zip(toronto_data['Latitude'], toronto_data['Longitude'], toronto_data['Neighbourhood']):\n",
    "    label = folium.Popup(label, parse_html=True)\n",
    "    folium.CircleMarker(\n",
    "        [lat, lng],\n",
    "        radius=5,\n",
    "        popup=label,\n",
    "        color='blue',\n",
    "        fill=True,\n",
    "        fill_color='#3186cc',\n",
    "        fill_opacity=0.7,\n",
    "        parse_html=False).add_to(map_toronto)  \n",
    "    \n",
    "map_toronto"
   ]
  },
  {
   "cell_type": "markdown",
   "metadata": {},
   "source": [
    "#### Define Foursquare Credentials and Version"
   ]
  },
  {
   "cell_type": "code",
   "execution_count": null,
   "metadata": {},
   "outputs": [],
   "source": [
    "# one hot encoding\n",
    "toronto_onehot = pd.get_dummies(toronto_venues[['Venue Category']], prefix=\"\", prefix_sep=\"\")\n",
    "\n",
    "# add neighborhood column back to dataframe\n",
    "toronto_onehot['Neighborhood'] = toronto_venues['Neighborhood'] \n",
    "\n",
    "# move neighborhood column to the first column\n",
    "fixed_columns = [toronto_onehot.columns[-1]] + list(toronto_onehot.columns[:-1])\n",
    "toronto_onehot = toronto_onehot[fixed_columns]\n",
    "\n",
    "toronto_onehot.head()"
   ]
  },
  {
   "cell_type": "code",
   "execution_count": null,
   "metadata": {},
   "outputs": [],
   "source": [
    "toronto_grouped = toronto_onehot.groupby('Neighborhood').mean().reset_index()\n",
    "toronto_grouped"
   ]
  },
  {
   "cell_type": "markdown",
   "metadata": {},
   "source": [
    "### **Part 3: Clustering Toronto Neighborhood"
   ]
  },
  {
   "cell_type": "code",
   "execution_count": null,
   "metadata": {},
   "outputs": [],
   "source": [
    "def return_most_common_venues(row, num_top_venues):\n",
    "    row_categories = row.iloc[1:]\n",
    "    row_categories_sorted = row_categories.sort_values(ascending=False)\n",
    "    \n",
    "    return row_categories_sorted.index.values[0:num_top_venues]"
   ]
  },
  {
   "cell_type": "code",
   "execution_count": null,
   "metadata": {},
   "outputs": [],
   "source": [
    "num_top_venues = 10\n",
    "\n",
    "indicators = ['st', 'nd', 'rd']\n",
    "\n",
    "# create columns according to number of top venues\n",
    "columns = ['Neighborhood']\n",
    "for ind in np.arange(num_top_venues):\n",
    "    try:\n",
    "        columns.append('{}{} Most Common Venue'.format(ind+1, indicators[ind]))\n",
    "    except:\n",
    "        columns.append('{}th Most Common Venue'.format(ind+1))\n",
    "\n",
    "# create a new dataframe\n",
    "neighborhoods_venues_sorted = pd.DataFrame(columns=columns)\n",
    "neighborhoods_venues_sorted['Neighborhood'] = toronto_grouped['Neighborhood']\n",
    "\n",
    "for ind in np.arange(toronto_grouped.shape[0]):\n",
    "    neighborhoods_venues_sorted.iloc[ind, 1:] = return_most_common_venues(toronto_grouped.iloc[ind, :], num_top_venues)\n",
    "\n",
    "neighborhoods_venues_sorted.head()"
   ]
  },
  {
   "cell_type": "code",
   "execution_count": null,
   "metadata": {},
   "outputs": [],
   "source": [
    "# set number of clusters\n",
    "kclusters = 5\n",
    "\n",
    "toronto_grouped_clustering = toronto_grouped.drop('Neighborhood', 1)\n",
    "\n",
    "# run k-means clustering\n",
    "kmeans = KMeans(n_clusters=kclusters, random_state=0).fit(toronto_grouped_clustering)\n",
    "\n",
    "# check cluster labels generated for each row in the dataframe\n",
    "kmeans.labels_[0:10] "
   ]
  },
  {
   "cell_type": "code",
   "execution_count": null,
   "metadata": {},
   "outputs": [],
   "source": [
    "toronto_data.rename(columns={'Neighbourhood':'Neighborhood'}, inplace=True)\n",
    "#toronto_data"
   ]
  },
  {
   "cell_type": "code",
   "execution_count": null,
   "metadata": {},
   "outputs": [],
   "source": [
    "# add clustering labels\n",
    "neighborhoods_venues_sorted.insert(0, 'Cluster Labels', kmeans.labels_)\n",
    "\n",
    "toronto_merged = toronto_data\n",
    "\n",
    "# merge toronto_grouped with toronto_data to add latitude/longitude for each neighborhood\n",
    "toronto_merged = toronto_merged.join(neighborhoods_venues_sorted.set_index('Neighborhood'), on='Neighborhood')\n",
    "\n",
    "toronto_merged.head() # check the last columns!"
   ]
  },
  {
   "cell_type": "code",
   "execution_count": null,
   "metadata": {},
   "outputs": [],
   "source": [
    "# create map\n",
    "map_clusters = folium.Map(location=[latitude, longitude], zoom_start=11)\n",
    "\n",
    "# set color scheme for the clusters\n",
    "x = np.arange(kclusters)\n",
    "ys = [i + x + (i*x)**2 for i in range(kclusters)]\n",
    "colors_array = cm.rainbow(np.linspace(0, 1, len(ys)))\n",
    "rainbow = [colors.rgb2hex(i) for i in colors_array]\n",
    "\n",
    "# add markers to the map\n",
    "markers_colors = []\n",
    "for lat, lon, poi, cluster in zip(toronto_merged['Latitude'], toronto_merged['Longitude'], toronto_merged['Neighborhood'], toronto_merged['Cluster Labels']):\n",
    "    label = folium.Popup(str(poi) + ' Cluster ' + str(cluster), parse_html=True)\n",
    "    folium.CircleMarker(\n",
    "        [lat, lon],\n",
    "        radius=5,\n",
    "        popup=label,\n",
    "        color=rainbow[cluster-1],\n",
    "        fill=True,\n",
    "        fill_color=rainbow[cluster-1],\n",
    "        fill_opacity=0.7).add_to(map_clusters)\n",
    "       \n",
    "map_clusters"
   ]
  },
  {
   "cell_type": "markdown",
   "metadata": {},
   "source": [
    "### Examine the clusters"
   ]
  },
  {
   "cell_type": "code",
   "execution_count": null,
   "metadata": {},
   "outputs": [],
   "source": [
    "toronto_merged.loc[toronto_merged['Cluster Labels'] == 0, toronto_merged.columns[[1] + list(range(5, toronto_merged.shape[1]))]]"
   ]
  },
  {
   "cell_type": "code",
   "execution_count": null,
   "metadata": {},
   "outputs": [],
   "source": [
    "toronto_merged.loc[toronto_merged['Cluster Labels'] == 1, toronto_merged.columns[[1] + list(range(5, toronto_merged.shape[1]))]]"
   ]
  },
  {
   "cell_type": "code",
   "execution_count": null,
   "metadata": {},
   "outputs": [],
   "source": [
    "toronto_merged.loc[toronto_merged['Cluster Labels'] == 2, toronto_merged.columns[[1] + list(range(5, toronto_merged.shape[1]))]]"
   ]
  },
  {
   "cell_type": "code",
   "execution_count": null,
   "metadata": {},
   "outputs": [],
   "source": [
    "toronto_merged.loc[toronto_merged['Cluster Labels'] == 3, toronto_merged.columns[[1] + list(range(5, toronto_merged.shape[1]))]]"
   ]
  },
  {
   "cell_type": "code",
   "execution_count": null,
   "metadata": {},
   "outputs": [],
   "source": [
    "toronto_merged.loc[toronto_merged['Cluster Labels'] == 4, toronto_merged.columns[[1] + list(range(5, toronto_merged.shape[1]))]]"
   ]
  },
  {
   "cell_type": "markdown",
   "metadata": {},
   "source": [
    "#### Conclusions:\n",
    "Now, we can examine each cluster and determine the discriminating venue categories that distinguish each cluster. Based on the defining categories, here are the cluster name and its category:\n",
    "- Cluster 0: Coffee, Food and General Stores\n",
    "- Cluster 1: Trasnportation (Bus Line)\n",
    "- Cluster 2: Pool\n",
    "- Cluster 3: Park\n",
    "- Cluster 4: Other Restaurant"
   ]
  },
  {
   "cell_type": "code",
   "execution_count": 3,
   "metadata": {},
   "outputs": [
    {
     "data": {
      "text/plain": [
       "['Chinese Restaurant',\n",
       " 'Japanese Restaurant',\n",
       " 'Bus Station',\n",
       " 'Italian Restaurant',\n",
       " 'Korean Restaurant',\n",
       " 'Train Station']"
      ]
     },
     "execution_count": 3,
     "metadata": {},
     "output_type": "execute_result"
    }
   ],
   "source": [
    "cl = ['Chinese Restaurant','Japanese Restaurant','Bus Station','Italian Restaurant','Korean Restaurant','Train Station']\n",
    "df=pd.DataFrame(columns= cl)\n",
    "clls=df.columns.tolist()\n",
    "clls"
   ]
  },
  {
   "cell_type": "code",
   "execution_count": 6,
   "metadata": {},
   "outputs": [
    {
     "data": {
      "text/html": [
       "<div>\n",
       "<style scoped>\n",
       "    .dataframe tbody tr th:only-of-type {\n",
       "        vertical-align: middle;\n",
       "    }\n",
       "\n",
       "    .dataframe tbody tr th {\n",
       "        vertical-align: top;\n",
       "    }\n",
       "\n",
       "    .dataframe thead th {\n",
       "        text-align: right;\n",
       "    }\n",
       "</style>\n",
       "<table border=\"1\" class=\"dataframe\">\n",
       "  <thead>\n",
       "    <tr style=\"text-align: right;\">\n",
       "      <th></th>\n",
       "      <th>Chinese Restaurant</th>\n",
       "      <th>Japanese Restaurant</th>\n",
       "      <th>Italian Restaurant</th>\n",
       "      <th>Korean Restaurant</th>\n",
       "    </tr>\n",
       "  </thead>\n",
       "  <tbody>\n",
       "  </tbody>\n",
       "</table>\n",
       "</div>"
      ],
      "text/plain": [
       "Empty DataFrame\n",
       "Columns: [Chinese Restaurant, Japanese Restaurant, Italian Restaurant, Korean Restaurant]\n",
       "Index: []"
      ]
     },
     "execution_count": 6,
     "metadata": {},
     "output_type": "execute_result"
    }
   ],
   "source": [
    "mask = [i.find('Restaurant')>=0 for i in clls]\n",
    "from itertools import compress\n",
    "df[list(compress(clls,mask))]"
   ]
  },
  {
   "cell_type": "code",
   "execution_count": null,
   "metadata": {},
   "outputs": [],
   "source": []
  }
 ],
 "metadata": {
  "kernelspec": {
   "display_name": "Python 3",
   "language": "python",
   "name": "python3"
  },
  "language_info": {
   "codemirror_mode": {
    "name": "ipython",
    "version": 3
   },
   "file_extension": ".py",
   "mimetype": "text/x-python",
   "name": "python",
   "nbconvert_exporter": "python",
   "pygments_lexer": "ipython3",
   "version": "3.7.1"
  }
 },
 "nbformat": 4,
 "nbformat_minor": 2
}
